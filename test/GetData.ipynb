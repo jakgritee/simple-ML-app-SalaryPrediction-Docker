{
 "cells": [
  {
   "cell_type": "markdown",
   "metadata": {},
   "source": [
    "#### Get data from stackoverflow\n",
    "https://insights.stackoverflow.com/survey"
   ]
  },
  {
   "cell_type": "code",
   "execution_count": 1,
   "metadata": {},
   "outputs": [
    {
     "name": "stderr",
     "output_type": "stream",
     "text": [
      "  % Total    % Received % Xferd  Average Speed   Time    Time     Time  Current\n",
      "                                 Dload  Upload   Total   Spent    Left  Speed\n",
      "\n",
      "  0     0    0     0    0     0      0      0 --:--:-- --:--:-- --:--:--     0\n",
      "100 11.5M  100 11.5M    0     0  70.4M      0 --:--:-- --:--:-- --:--:-- 70.7M\n"
     ]
    }
   ],
   "source": [
    "! curl -Lo survey2022.zip \"https://info.stackoverflowsolutions.com/rs/719-EMH-566/images/stack-overflow-developer-survey-2022.zip\""
   ]
  },
  {
   "cell_type": "code",
   "execution_count": 2,
   "metadata": {},
   "outputs": [
    {
     "name": "stdout",
     "output_type": "stream",
     "text": [
      "Archive:  survey2022.zip\n",
      "  Length      Date    Time    Name\n",
      "---------  ---------- -----   ----\n",
      "     2264  2022-07-14 09:58   README_2022.txt\n",
      "  1005643  2022-08-15 17:21   so_survey_2022.pdf\n",
      "108829270  2022-07-28 23:05   survey_results_public.csv\n",
      "    14471  2022-07-28 23:05   survey_results_schema.csv\n",
      "---------                     -------\n",
      "109851648                     4 files\n"
     ]
    }
   ],
   "source": [
    "! unzip -l survey2022.zip"
   ]
  },
  {
   "cell_type": "code",
   "execution_count": 3,
   "metadata": {},
   "outputs": [
    {
     "name": "stdout",
     "output_type": "stream",
     "text": [
      "Archive:  survey2022.zip\n",
      "  inflating: README_2022.txt         \n",
      "  inflating: so_survey_2022.pdf      \n",
      "  inflating: survey_results_public.csv  \n",
      "  inflating: survey_results_schema.csv  \n"
     ]
    }
   ],
   "source": [
    "! unzip survey2022.zip"
   ]
  },
  {
   "cell_type": "code",
   "execution_count": 4,
   "metadata": {},
   "outputs": [],
   "source": [
    "! rm survey2022.zip"
   ]
  },
  {
   "cell_type": "code",
   "execution_count": 5,
   "metadata": {},
   "outputs": [],
   "source": [
    "! mv *.csv *.pdf *.txt ../data"
   ]
  }
 ],
 "metadata": {
  "kernelspec": {
   "display_name": "Python 3.9.13 ('st')",
   "language": "python",
   "name": "python3"
  },
  "language_info": {
   "codemirror_mode": {
    "name": "ipython",
    "version": 3
   },
   "file_extension": ".py",
   "mimetype": "text/x-python",
   "name": "python",
   "nbconvert_exporter": "python",
   "pygments_lexer": "ipython3",
   "version": "3.9.13"
  },
  "orig_nbformat": 4,
  "vscode": {
   "interpreter": {
    "hash": "5da6ca1f8b0d07c89e41aff2f400039b2ff5e1315ddaa21f205c8b590c695f15"
   }
  }
 },
 "nbformat": 4,
 "nbformat_minor": 2
}
