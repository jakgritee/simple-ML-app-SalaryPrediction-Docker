{
 "cells": [
  {
   "cell_type": "markdown",
   "metadata": {},
   "source": [
    "#### Get Conversion Rate from apilayer\n",
    "https://apilayer.com/"
   ]
  },
  {
   "cell_type": "code",
   "execution_count": 1,
   "metadata": {},
   "outputs": [],
   "source": [
    "import pandas as pd\n",
    "\n",
    "df = pd.read_csv('survey_results_public.csv')\n",
    "df = df[['EdLevel', 'YearsCode', 'YearsCodePro', 'OrgSize', 'Country', 'Currency', 'CompTotal', 'CompFreq', 'Age', \n",
    "    'LanguageHaveWorkedWith', 'DatabaseHaveWorkedWith', 'PlatformHaveWorkedWith', 'OpSysProfessional use']]\n",
    "df = df.dropna(subset=['CompTotal']).reset_index(drop=True)"
   ]
  },
  {
   "cell_type": "code",
   "execution_count": 2,
   "metadata": {},
   "outputs": [
    {
     "data": {
      "text/plain": [
       "array(['GBP\\tPound sterling', 'ILS\\tIsraeli new shekel',\n",
       "       'EUR European Euro', 'USD\\tUnited States dollar',\n",
       "       'CZK\\tCzech koruna', 'CAD\\tCanadian dollar', 'PLN\\tPolish zloty',\n",
       "       'NOK\\tNorwegian krone', 'TWD\\tNew Taiwan dollar',\n",
       "       'BRL\\tBrazilian real', 'UYU\\tUruguayan peso', 'SEK\\tSwedish krona',\n",
       "       'TRY\\tTurkish lira', 'RON\\tRomanian leu', 'SGD\\tSingapore dollar',\n",
       "       'INR\\tIndian rupee', 'BGN\\tBulgarian lev', 'RUB\\tRussian ruble',\n",
       "       'SAR\\tSaudi Arabian riyal', 'KES\\tKenyan shilling',\n",
       "       'CHF\\tSwiss franc', 'ZAR\\tSouth African rand', 'THB\\tThai baht',\n",
       "       'CNY\\tChinese Yuan Renminbi', 'DKK\\tDanish krone',\n",
       "       'AUD\\tAustralian dollar', 'VND\\tVietnamese dong',\n",
       "       'ARS\\tArgentine peso', 'HUF\\tHungarian forint',\n",
       "       'TND\\tTunisian dinar', 'BDT\\tBangladeshi taka',\n",
       "       'MVR\\tMaldivian rufiyaa', 'HKD\\tHong Kong dollar',\n",
       "       'MXN\\tMexican peso', 'EGP\\tEgyptian pound', 'RSD\\tSerbian dinar',\n",
       "       'PKR\\tPakistani rupee', 'NPR\\tNepalese rupee',\n",
       "       'HRK\\tCroatian kuna', 'IDR\\tIndonesian rupiah',\n",
       "       'BAM\\tBosnia and Herzegovina convertible mark', 'IMP\\tManx pound',\n",
       "       'IRR\\tIranian rial', 'CRC\\tCosta Rican colon',\n",
       "       'MUR\\tMauritian rupee', 'KZT\\tKazakhstani tenge',\n",
       "       'MAD\\tMoroccan dirham', 'PHP\\tPhilippine peso',\n",
       "       'NZD\\tNew Zealand dollar', 'JPY\\tJapanese yen',\n",
       "       'PEN\\tPeruvian sol', 'UAH\\tUkrainian hryvnia',\n",
       "       'COP\\tColombian peso', 'GIP\\tGibraltar pound',\n",
       "       'AED United Arab Emirates dirham', 'AFN\\tAfghan afghani',\n",
       "       'KRW\\tSouth Korean won', 'LBP\\tLebanese pound',\n",
       "       'MYR\\tMalaysian ringgit', 'GTQ\\tGuatemalan quetzal',\n",
       "       'AZN\\tAzerbaijan manat', 'CLP\\tChilean peso',\n",
       "       'LKR\\tSri Lankan rupee', 'BYN\\tBelarusian ruble',\n",
       "       'UZS\\tUzbekistani som', 'QAR\\tQatari riyal', 'NGN\\tNigerian naira',\n",
       "       'AMD\\tArmenian dram', 'ETB\\tEthiopian birr',\n",
       "       'JOD\\tJordanian dinar', 'FJD\\tFijian dollar',\n",
       "       'MNT\\tMongolian tugrik', 'TJS\\tTajikistani somoni',\n",
       "       'GHS\\tGhanaian cedi', 'MKD\\tMacedonian denar',\n",
       "       'TZS\\tTanzanian shilling', 'DZD\\tAlgerian dinar',\n",
       "       'MDL\\tMoldovan leu', 'XAF\\tCentral African CFA franc',\n",
       "       'TMT\\tTurkmen manat', 'BWP\\tBotswana pula', 'ALL\\tAlbanian lek',\n",
       "       'MMK\\tMyanmar kyat', 'MGA\\tMalagasy ariary', 'GEL\\tGeorgian lari',\n",
       "       'XOF\\tWest African CFA franc', 'DOP\\tDominican peso',\n",
       "       'RWF\\tRwandan franc', 'KWD\\tKuwaiti dinar',\n",
       "       'KYD\\tCayman Islands dollar', 'HNL\\tHonduran lempira',\n",
       "       'ISK\\tIcelandic krona', 'BHD\\tBahraini dinar',\n",
       "       'BOB\\tBolivian boliviano', 'PYG\\tParaguayan guarani',\n",
       "       'CUP\\tCuban peso', 'UGX\\tUgandan shilling',\n",
       "       'BBD\\tBarbadian dollar', 'NIO\\tNicaraguan cordoba',\n",
       "       'KGS\\tKyrgyzstani som', 'IQD\\tIraqi dinar', 'LAK\\tLao kip',\n",
       "       'LYD\\tLibyan dinar', 'MZN\\tMozambican metical',\n",
       "       'AOA\\tAngolan kwanza', 'AWG\\tAruban florin', 'OMR\\tOmani rial',\n",
       "       'SYP\\tSyrian pound', 'SDG\\tSudanese pound', 'ZMW Zambian kwacha',\n",
       "       'DJF\\tDjiboutian franc', 'GNF\\tGuinean franc',\n",
       "       'VES\\tVenezuelan bolivar', 'TTD\\tTrinidad and Tobago dollar',\n",
       "       'BTN\\tBhutanese ngultrum', 'BMD\\tBermudian dollar',\n",
       "       'JMD\\tJamaican dollar', 'HTG\\tHaitian gourde', 'YER\\tYemeni rial',\n",
       "       'MWK\\tMalawian kwacha', 'GYD\\tGuyanese dollar', 'XPF\\tCFP franc',\n",
       "       'SZL\\tSwazi lilangeni', 'XCD\\tEast Caribbean dollar',\n",
       "       'SCR\\tSeychellois rupee', 'SBD\\tSolomon Islands dollar'],\n",
       "      dtype=object)"
      ]
     },
     "execution_count": 2,
     "metadata": {},
     "output_type": "execute_result"
    }
   ],
   "source": [
    "df['Currency'].unique()"
   ]
  },
  {
   "cell_type": "code",
   "execution_count": 3,
   "metadata": {},
   "outputs": [
    {
     "data": {
      "text/plain": [
       "0        GBP\n",
       "1        ILS\n",
       "2        EUR\n",
       "3        GBP\n",
       "4        USD\n",
       "        ... \n",
       "38417    PLN\n",
       "38418    EUR\n",
       "38419    USD\n",
       "38420    USD\n",
       "38421    GBP\n",
       "Name: Currency, Length: 38422, dtype: object"
      ]
     },
     "execution_count": 3,
     "metadata": {},
     "output_type": "execute_result"
    }
   ],
   "source": [
    "df['Currency'].str.slice(start=0, stop=3)"
   ]
  },
  {
   "cell_type": "code",
   "execution_count": 4,
   "metadata": {},
   "outputs": [
    {
     "data": {
      "text/plain": [
       "array(['GBP', 'ILS', 'EUR', 'USD', 'CZK', 'CAD', 'PLN', 'NOK', 'TWD',\n",
       "       'BRL', 'UYU', 'SEK', 'TRY', 'RON', 'SGD', 'INR', 'BGN', 'RUB',\n",
       "       'SAR', 'KES', 'CHF', 'ZAR', 'THB', 'CNY', 'DKK', 'AUD', 'VND',\n",
       "       'ARS', 'HUF', 'TND', 'BDT', 'MVR', 'HKD', 'MXN', 'EGP', 'RSD',\n",
       "       'PKR', 'NPR', 'HRK', 'IDR', 'BAM', 'IMP', 'IRR', 'CRC', 'MUR',\n",
       "       'KZT', 'MAD', 'PHP', 'NZD', 'JPY', 'PEN', 'UAH', 'COP', 'GIP',\n",
       "       'AED', 'AFN', 'KRW', 'LBP', 'MYR', 'GTQ', 'AZN', 'CLP', 'LKR',\n",
       "       'BYN', 'UZS', 'QAR', 'NGN', 'AMD', 'ETB', 'JOD', 'FJD', 'MNT',\n",
       "       'TJS', 'GHS', 'MKD', 'TZS', 'DZD', 'MDL', 'XAF', 'TMT', 'BWP',\n",
       "       'ALL', 'MMK', 'MGA', 'GEL', 'XOF', 'DOP', 'RWF', 'KWD', 'KYD',\n",
       "       'HNL', 'ISK', 'BHD', 'BOB', 'PYG', 'CUP', 'UGX', 'BBD', 'NIO',\n",
       "       'KGS', 'IQD', 'LAK', 'LYD', 'MZN', 'AOA', 'AWG', 'OMR', 'SYP',\n",
       "       'SDG', 'ZMW', 'DJF', 'GNF', 'VES', 'TTD', 'BTN', 'BMD', 'JMD',\n",
       "       'HTG', 'YER', 'MWK', 'GYD', 'XPF', 'SZL', 'XCD', 'SCR', 'SBD'],\n",
       "      dtype=object)"
      ]
     },
     "execution_count": 4,
     "metadata": {},
     "output_type": "execute_result"
    }
   ],
   "source": [
    "df['CurrencyCode'] = df['Currency'].str.slice(start=0, stop=3)\n",
    "df['CurrencyCode'].unique()"
   ]
  },
  {
   "cell_type": "code",
   "execution_count": 5,
   "metadata": {},
   "outputs": [],
   "source": [
    "from getpass import getpass\n",
    "api_key = getpass()"
   ]
  },
  {
   "cell_type": "code",
   "execution_count": 6,
   "metadata": {},
   "outputs": [
    {
     "data": {
      "text/plain": [
       "{'success': True,\n",
       " 'query': {'from': 'GBP', 'to': 'THB', 'amount': 10000},\n",
       " 'info': {'timestamp': 1652313599, 'rate': 42.372863},\n",
       " 'date': '2022-05-11',\n",
       " 'historical': True,\n",
       " 'result': 423728.63}"
      ]
     },
     "execution_count": 6,
     "metadata": {},
     "output_type": "execute_result"
    }
   ],
   "source": [
    "import requests\n",
    "\n",
    "base = 'THB'\n",
    "symbol = 'GBP'\n",
    "date = '2022-05-11' # The survey was fielded from May 11, 2022 to June 1, 2022.\n",
    "headers = {'apikey': api_key}\n",
    "# Custom Headers\n",
    "# If you'd like to add HTTP headers to a request, simply pass in a dict to the headers parameter. (ใน Quickstart ของ requests docs)\n",
    "# 'apikey' ใช้คำนี้เพราะ ดูได้ใน docs ของผู้ให้บริการ api (ในที่นี้ https://apilayer.com/marketplace/exchangerates_data-api#documentation-tab)\n",
    "url = f'https://api.apilayer.com/exchangerates_data/convert?to={base}&from={symbol}&amount=10000&date={date}'\n",
    "# It is also possible to convert currencies using historical exchange rate data.\n",
    "# To do this, please also use the API's date parameter and set it to your preferred date. (format YYYY-MM-DD)\n",
    "r = requests.get(url, headers=headers)\n",
    "r.json()"
   ]
  },
  {
   "cell_type": "code",
   "execution_count": 7,
   "metadata": {},
   "outputs": [],
   "source": [
    "d = {}\n",
    "\n",
    "for i in df['CurrencyCode'].unique():\n",
    "    base = 'THB'\n",
    "    symbol = i\n",
    "    date = '2022-05-11'\n",
    "\n",
    "    headers = {'apikey': api_key}\n",
    "    url = f'https://api.apilayer.com/exchangerates_data/convert?to={base}&from={symbol}&amount=10000&date={date}'\n",
    "    r = requests.get(url, headers=headers)\n",
    "    if r.ok:\n",
    "        j = r.json()\n",
    "        d[symbol] = j['info']['rate']"
   ]
  },
  {
   "cell_type": "code",
   "execution_count": 8,
   "metadata": {},
   "outputs": [
    {
     "data": {
      "text/plain": [
       "{'GBP': 42.372863,\n",
       " 'ILS': 10.083647,\n",
       " 'EUR': 36.409917,\n",
       " 'USD': 34.636018,\n",
       " 'CZK': 1.433005,\n",
       " 'CAD': 26.653239,\n",
       " 'PLN': 7.787313,\n",
       " 'NOK': 3.551247,\n",
       " 'TWD': 1.166431,\n",
       " 'BRL': 6.741073,\n",
       " 'UYU': 0.828997,\n",
       " 'SEK': 3.436403,\n",
       " 'TRY': 2.265213,\n",
       " 'RON': 7.358249,\n",
       " 'SGD': 24.912802,\n",
       " 'INR': 0.447386,\n",
       " 'BGN': 18.638553,\n",
       " 'RUB': 0.518893,\n",
       " 'SAR': 9.233023,\n",
       " 'KES': 0.298354,\n",
       " 'CHF': 34.826157,\n",
       " 'ZAR': 2.152188,\n",
       " 'THB': 1,\n",
       " 'CNY': 5.152868,\n",
       " 'DKK': 4.893955,\n",
       " 'AUD': 23.993582,\n",
       " 'VND': 0.001502,\n",
       " 'ARS': 0.295815,\n",
       " 'HUF': 0.095897,\n",
       " 'TND': 11.236353,\n",
       " 'BDT': 0.399614,\n",
       " 'MVR': 2.241849,\n",
       " 'HKD': 4.412296,\n",
       " 'MXN': 1.704287,\n",
       " 'EGP': 1.883457,\n",
       " 'RSD': 0.309623,\n",
       " 'PKR': 0.182439,\n",
       " 'NPR': 0.280282,\n",
       " 'HRK': 4.830036,\n",
       " 'IDR': 0.002381,\n",
       " 'BAM': 18.687809,\n",
       " 'IMP': 45.061313,\n",
       " 'IRR': 0.000817,\n",
       " 'CRC': 0.051843,\n",
       " 'MUR': 0.80168,\n",
       " 'KZT': 0.078616,\n",
       " 'MAD': 3.452381,\n",
       " 'PHP': 0.661309,\n",
       " 'NZD': 21.765459,\n",
       " 'JPY': 0.266766,\n",
       " 'PEN': 9.14483,\n",
       " 'UAH': 1.145687,\n",
       " 'COP': 0.008485,\n",
       " 'GIP': 45.061313,\n",
       " 'AED': 9.42986,\n",
       " 'AFN': 0.395839,\n",
       " 'KRW': 0.027077,\n",
       " 'LBP': 0.022755,\n",
       " 'MYR': 7.914092,\n",
       " 'GTQ': 4.520507,\n",
       " 'AZN': 20.354888,\n",
       " 'CLP': 0.040175,\n",
       " 'LKR': 0.096271,\n",
       " 'BYN': 10.270077,\n",
       " 'UZS': 0.003098,\n",
       " 'QAR': 9.51283,\n",
       " 'NGN': 0.083595,\n",
       " 'AMD': 0.074188,\n",
       " 'ETB': 0.6732,\n",
       " 'JOD': 48.851061,\n",
       " 'FJD': 15.824568,\n",
       " 'MNT': 0.011565,\n",
       " 'TJS': 2.774841,\n",
       " 'GHS': 4.62022,\n",
       " 'MKD': 0.591055,\n",
       " 'TZS': 0.014897,\n",
       " 'DZD': 0.237834,\n",
       " 'MDL': 1.833458,\n",
       " 'XAF': 0.05572,\n",
       " 'TMT': 9.896005,\n",
       " 'BWP': 2.845302,\n",
       " 'ALL': 0.302102,\n",
       " 'MMK': 0.018718,\n",
       " 'MGA': 0.00867,\n",
       " 'GEL': 11.44987,\n",
       " 'XOF': 0.05573,\n",
       " 'DOP': 0.628037,\n",
       " 'RWF': 0.033924,\n",
       " 'KWD': 112.856691,\n",
       " 'KYD': 41.591007,\n",
       " 'HNL': 1.415441,\n",
       " 'ISK': 0.261385,\n",
       " 'BHD': 91.845721,\n",
       " 'BOB': 5.048295,\n",
       " 'PYG': 0.00505,\n",
       " 'CUP': 1.30702,\n",
       " 'UGX': 0.009654,\n",
       " 'BBD': 17.164299,\n",
       " 'NIO': 0.968294,\n",
       " 'KGS': 0.419029,\n",
       " 'IQD': 0.023723,\n",
       " 'LAK': 0.002701,\n",
       " 'LYD': 7.20838,\n",
       " 'MZN': 0.542633,\n",
       " 'AOA': 0.085316,\n",
       " 'AWG': 19.236888,\n",
       " 'OMR': 89.954143,\n",
       " 'SYP': 0.013786,\n",
       " 'SDG': 0.076123,\n",
       " 'ZMW': 2.032666,\n",
       " 'DJF': 0.194891,\n",
       " 'GNF': 0.00394,\n",
       " 'TTD': 5.099857,\n",
       " 'BTN': 0.448452,\n",
       " 'BMD': 34.636018,\n",
       " 'JMD': 0.223529,\n",
       " 'HTG': 0.312222,\n",
       " 'YER': 0.138406,\n",
       " 'MWK': 0.04242}"
      ]
     },
     "execution_count": 8,
     "metadata": {},
     "output_type": "execute_result"
    }
   ],
   "source": [
    "d"
   ]
  },
  {
   "cell_type": "code",
   "execution_count": 9,
   "metadata": {},
   "outputs": [
    {
     "data": {
      "text/plain": [
       "GBP    42.372863\n",
       "ILS    10.083647\n",
       "EUR    36.409917\n",
       "USD    34.636018\n",
       "CZK     1.433005\n",
       "         ...    \n",
       "BMD    34.636018\n",
       "JMD     0.223529\n",
       "HTG     0.312222\n",
       "YER     0.138406\n",
       "MWK     0.042420\n",
       "Length: 119, dtype: float64"
      ]
     },
     "execution_count": 9,
     "metadata": {},
     "output_type": "execute_result"
    }
   ],
   "source": [
    "conversion_rate = pd.Series(d)\n",
    "conversion_rate"
   ]
  },
  {
   "cell_type": "code",
   "execution_count": 10,
   "metadata": {},
   "outputs": [],
   "source": [
    "conversion_rate.index.names = ['symbol']"
   ]
  },
  {
   "cell_type": "code",
   "execution_count": 11,
   "metadata": {},
   "outputs": [],
   "source": [
    "conversion_rate.to_csv('../data/conversion_rate.csv', header=['rate'])"
   ]
  }
 ],
 "metadata": {
  "kernelspec": {
   "display_name": "Python 3.9.13 ('st')",
   "language": "python",
   "name": "python3"
  },
  "language_info": {
   "codemirror_mode": {
    "name": "ipython",
    "version": 3
   },
   "file_extension": ".py",
   "mimetype": "text/x-python",
   "name": "python",
   "nbconvert_exporter": "python",
   "pygments_lexer": "ipython3",
   "version": "3.9.13"
  },
  "orig_nbformat": 4,
  "vscode": {
   "interpreter": {
    "hash": "5da6ca1f8b0d07c89e41aff2f400039b2ff5e1315ddaa21f205c8b590c695f15"
   }
  }
 },
 "nbformat": 4,
 "nbformat_minor": 2
}
